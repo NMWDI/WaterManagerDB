{
 "cells": [
  {
   "attachments": {},
   "cell_type": "markdown",
   "metadata": {},
   "source": [
    "# Meter Extraction\n",
    "Goal: Extract distinct meters and relevant attributes from PVACD Access DB"
   ]
  },
  {
   "cell_type": "code",
   "execution_count": 1,
   "metadata": {},
   "outputs": [],
   "source": [
    "import pyodbc\n",
    "import pandas as pd"
   ]
  },
  {
   "cell_type": "code",
   "execution_count": 2,
   "metadata": {},
   "outputs": [],
   "source": [
    "#Set up PyODBC connection to Access database\n",
    "conn_str = (\n",
    "    r'DRIVER={Microsoft Access Driver (*.mdb, *.accdb)};'\n",
    "    r'DBQ=C:\\Users\\clmbn\\NMWaterData\\PVACDdb\\PVACD AMS Jan2023.accdb;'\n",
    "    )\n",
    "cnxn = pyodbc.connect(conn_str)"
   ]
  },
  {
   "attachments": {},
   "cell_type": "markdown",
   "metadata": {},
   "source": [
    "### Data Import\n",
    "Source: \n",
    "tblMeter - It appears that tblMeter is mostly tracking maintenance while tblMeter is mostly unique meter serial numbers.\n",
    "\n",
    "Fields:\n",
    "- sTag, sSize, sBrand, sContact, sSerialNumber, sRANumber, sTRSS, sLatLong, sModel, sStatus"
   ]
  },
  {
   "cell_type": "code",
   "execution_count": 3,
   "metadata": {},
   "outputs": [
    {
     "name": "stderr",
     "output_type": "stream",
     "text": [
      "C:\\Users\\clmbn\\AppData\\Local\\Temp\\ipykernel_22992\\2460389883.py:6: UserWarning: pandas only supports SQLAlchemy connectable (engine/connection) or database string URI or sqlite3 DBAPI2 connection. Other DBAPI2 objects are not tested. Please consider using SQLAlchemy.\n",
      "  meter_df = pd.read_sql_query(qry, cnxn)\n"
     ]
    },
    {
     "data": {
      "text/html": [
       "<div>\n",
       "<style scoped>\n",
       "    .dataframe tbody tr th:only-of-type {\n",
       "        vertical-align: middle;\n",
       "    }\n",
       "\n",
       "    .dataframe tbody tr th {\n",
       "        vertical-align: top;\n",
       "    }\n",
       "\n",
       "    .dataframe thead th {\n",
       "        text-align: right;\n",
       "    }\n",
       "</style>\n",
       "<table border=\"1\" class=\"dataframe\">\n",
       "  <thead>\n",
       "    <tr style=\"text-align: right;\">\n",
       "      <th></th>\n",
       "      <th>sSerialNumber</th>\n",
       "      <th>sSize</th>\n",
       "      <th>sBrand</th>\n",
       "      <th>sModel</th>\n",
       "      <th>sContact</th>\n",
       "      <th>sTag</th>\n",
       "      <th>sRANumber</th>\n",
       "      <th>sTRSS</th>\n",
       "      <th>sLatLong</th>\n",
       "      <th>sStatus</th>\n",
       "    </tr>\n",
       "  </thead>\n",
       "  <tbody>\n",
       "    <tr>\n",
       "      <th>0</th>\n",
       "      <td>88-8-817</td>\n",
       "      <td>8.0</td>\n",
       "      <td>MCCROMETER</td>\n",
       "      <td>308</td>\n",
       "      <td>HALDEMAN W.T. ESTATE</td>\n",
       "      <td>None</td>\n",
       "      <td>763;1180-S</td>\n",
       "      <td>17.26.14.133</td>\n",
       "      <td>N32* 50' 08.9''  W104* 21' 38.0''</td>\n",
       "      <td>S</td>\n",
       "    </tr>\n",
       "    <tr>\n",
       "      <th>1</th>\n",
       "      <td>94-8-2251</td>\n",
       "      <td>8.0</td>\n",
       "      <td>MCCROMETER</td>\n",
       "      <td>308</td>\n",
       "      <td>DAVID AND TRACEY CORN</td>\n",
       "      <td>221C4</td>\n",
       "      <td>2417 POD 2</td>\n",
       "      <td>8.24.28.413</td>\n",
       "      <td></td>\n",
       "      <td>I</td>\n",
       "    </tr>\n",
       "    <tr>\n",
       "      <th>2</th>\n",
       "      <td>00-10-6922</td>\n",
       "      <td>10.0</td>\n",
       "      <td>MCCROMETER</td>\n",
       "      <td>310</td>\n",
       "      <td>AG SERVICES</td>\n",
       "      <td>None</td>\n",
       "      <td></td>\n",
       "      <td>ROSWELL, NM</td>\n",
       "      <td></td>\n",
       "      <td>S</td>\n",
       "    </tr>\n",
       "    <tr>\n",
       "      <th>3</th>\n",
       "      <td>00-10-6923</td>\n",
       "      <td>10.0</td>\n",
       "      <td>MCCROMETER</td>\n",
       "      <td>310</td>\n",
       "      <td>N.M.S.U. EXPER STAT.</td>\n",
       "      <td>20138</td>\n",
       "      <td>827</td>\n",
       "      <td>18.26.16.211</td>\n",
       "      <td>N32*-45' 16.4'' W104*-23' 11.1''</td>\n",
       "      <td>I</td>\n",
       "    </tr>\n",
       "    <tr>\n",
       "      <th>4</th>\n",
       "      <td>00-10-6924</td>\n",
       "      <td>10.0</td>\n",
       "      <td>MCCROMETER</td>\n",
       "      <td>310</td>\n",
       "      <td>WAIDE FARMS</td>\n",
       "      <td>None</td>\n",
       "      <td>None</td>\n",
       "      <td>None</td>\n",
       "      <td>None</td>\n",
       "      <td>S</td>\n",
       "    </tr>\n",
       "  </tbody>\n",
       "</table>\n",
       "</div>"
      ],
      "text/plain": [
       "  sSerialNumber  sSize      sBrand sModel               sContact   sTag  \\\n",
       "0      88-8-817    8.0  MCCROMETER    308   HALDEMAN W.T. ESTATE   None   \n",
       "1     94-8-2251    8.0  MCCROMETER    308  DAVID AND TRACEY CORN  221C4   \n",
       "2    00-10-6922   10.0  MCCROMETER    310            AG SERVICES   None   \n",
       "3    00-10-6923   10.0  MCCROMETER    310   N.M.S.U. EXPER STAT.  20138   \n",
       "4    00-10-6924   10.0  MCCROMETER    310            WAIDE FARMS   None   \n",
       "\n",
       "    sRANumber         sTRSS                           sLatLong sStatus  \n",
       "0  763;1180-S  17.26.14.133  N32* 50' 08.9''  W104* 21' 38.0''       S  \n",
       "1  2417 POD 2   8.24.28.413                                          I  \n",
       "2               ROSWELL, NM                                          S  \n",
       "3         827  18.26.16.211   N32*-45' 16.4'' W104*-23' 11.1''       I  \n",
       "4        None          None                               None       S  "
      ]
     },
     "execution_count": 3,
     "metadata": {},
     "output_type": "execute_result"
    }
   ],
   "source": [
    "qry = '''\n",
    "    SELECT DISTINCT sSerialNumber, sSize, sBrand, sModel, sContact, sTag, sRANumber, sTRSS, sLatLong, sStatus \n",
    "    FROM tblMeter\n",
    "    WHERE sSerialNumber IS NOT NULL AND sSerialNumber <> ''\n",
    "'''\n",
    "meter_df = pd.read_sql_query(qry, cnxn)\n",
    "meter_df.head()"
   ]
  },
  {
   "attachments": {},
   "cell_type": "markdown",
   "metadata": {},
   "source": [
    "### Data Cleaning\n",
    "- Remove duplicates"
   ]
  },
  {
   "cell_type": "code",
   "execution_count": 4,
   "metadata": {},
   "outputs": [],
   "source": [
    "#Drop duplicate serial numbers from meter_df\n",
    "meter_df.drop_duplicates(subset='sSerialNumber', keep='first', inplace=True)"
   ]
  },
  {
   "attachments": {},
   "cell_type": "markdown",
   "metadata": {},
   "source": [
    "### Prepare data for new database"
   ]
  },
  {
   "cell_type": "code",
   "execution_count": null,
   "metadata": {},
   "outputs": [],
   "source": []
  }
 ],
 "metadata": {
  "kernelspec": {
   "display_name": ".env310",
   "language": "python",
   "name": "python3"
  },
  "language_info": {
   "codemirror_mode": {
    "name": "ipython",
    "version": 3
   },
   "file_extension": ".py",
   "mimetype": "text/x-python",
   "name": "python",
   "nbconvert_exporter": "python",
   "pygments_lexer": "ipython3",
   "version": "3.10.7"
  },
  "orig_nbformat": 4
 },
 "nbformat": 4,
 "nbformat_minor": 2
}
