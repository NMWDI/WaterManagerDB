{
 "cells": [
  {
   "attachments": {},
   "cell_type": "markdown",
   "metadata": {},
   "source": [
    "# Build Meter Table\n",
    "Build the meters table from extracted data as well as location and wells tables."
   ]
  },
  {
   "cell_type": "code",
   "execution_count": 1,
   "metadata": {},
   "outputs": [],
   "source": [
    "import pandas as pd\n",
    "import numpy as np"
   ]
  },
  {
   "cell_type": "code",
   "execution_count": 2,
   "metadata": {},
   "outputs": [],
   "source": [
    "# Load extracted_meters, locations, and wells\n",
    "meters = pd.read_csv('./api/data/extracted_meters.csv')\n",
    "locations = pd.read_csv('./api/data/locations.csv')\n",
    "wells = pd.read_csv('./api/data/wells.csv')"
   ]
  },
  {
   "attachments": {},
   "cell_type": "markdown",
   "metadata": {},
   "source": [
    "Steps:\n",
    "* Associate meters with wells/locations using the RA number\n",
    "* Add any undefined wells based on installed meters with lat/lon\n",
    "* If meter appears to be in wearhouse, add location"
   ]
  },
  {
   "cell_type": "code",
   "execution_count": 3,
   "metadata": {},
   "outputs": [],
   "source": [
    "# Join well_id and location_id from wells to meters based on RA number\n",
    "meters_locations = pd.merge(meters, wells[['name','well_id', 'location_id']], how='left', left_on='sRANumber', right_on='name')"
   ]
  },
  {
   "cell_type": "code",
   "execution_count": 9,
   "metadata": {},
   "outputs": [
    {
     "data": {
      "text/html": [
       "<div>\n",
       "<style scoped>\n",
       "    .dataframe tbody tr th:only-of-type {\n",
       "        vertical-align: middle;\n",
       "    }\n",
       "\n",
       "    .dataframe tbody tr th {\n",
       "        vertical-align: top;\n",
       "    }\n",
       "\n",
       "    .dataframe thead th {\n",
       "        text-align: right;\n",
       "    }\n",
       "</style>\n",
       "<table border=\"1\" class=\"dataframe\">\n",
       "  <thead>\n",
       "    <tr style=\"text-align: right;\">\n",
       "      <th></th>\n",
       "      <th>sSerialNumber</th>\n",
       "      <th>sContact</th>\n",
       "      <th>sTag</th>\n",
       "      <th>sRANumber</th>\n",
       "      <th>sTRSS</th>\n",
       "      <th>owner_id</th>\n",
       "      <th>meter_type_id</th>\n",
       "      <th>meter_status_id</th>\n",
       "      <th>latitude</th>\n",
       "      <th>longitude</th>\n",
       "      <th>name</th>\n",
       "      <th>well_id</th>\n",
       "      <th>location_id</th>\n",
       "    </tr>\n",
       "  </thead>\n",
       "  <tbody>\n",
       "    <tr>\n",
       "      <th>46</th>\n",
       "      <td>00-6-3949</td>\n",
       "      <td>TIM OR ELIZABETH ARGO</td>\n",
       "      <td>207E5</td>\n",
       "      <td>NaN</td>\n",
       "      <td>9.24.14.431</td>\n",
       "      <td>NaN</td>\n",
       "      <td>2.0</td>\n",
       "      <td>1</td>\n",
       "      <td>33.529278</td>\n",
       "      <td>104.478167</td>\n",
       "      <td>NaN</td>\n",
       "      <td>NaN</td>\n",
       "      <td>NaN</td>\n",
       "    </tr>\n",
       "    <tr>\n",
       "      <th>1648</th>\n",
       "      <td>17-9-06604</td>\n",
       "      <td>BERRENDO WATER USERS ASSOC.</td>\n",
       "      <td>NaN</td>\n",
       "      <td>NaN</td>\n",
       "      <td>11.23.4.122</td>\n",
       "      <td>NaN</td>\n",
       "      <td>14.0</td>\n",
       "      <td>1</td>\n",
       "      <td>33.393306</td>\n",
       "      <td>104.623806</td>\n",
       "      <td>NaN</td>\n",
       "      <td>NaN</td>\n",
       "      <td>NaN</td>\n",
       "    </tr>\n",
       "    <tr>\n",
       "      <th>1748</th>\n",
       "      <td>19-4-00254</td>\n",
       "      <td>BILL HORNER</td>\n",
       "      <td>NaN</td>\n",
       "      <td>NaN</td>\n",
       "      <td>WAREHOUSE</td>\n",
       "      <td>16.0</td>\n",
       "      <td>1.0</td>\n",
       "      <td>1</td>\n",
       "      <td>32.864750</td>\n",
       "      <td>104.362583</td>\n",
       "      <td>NaN</td>\n",
       "      <td>NaN</td>\n",
       "      <td>NaN</td>\n",
       "    </tr>\n",
       "    <tr>\n",
       "      <th>1749</th>\n",
       "      <td>19-4-00255</td>\n",
       "      <td>CHISUM TRAIL DAIRY</td>\n",
       "      <td>NaN</td>\n",
       "      <td>NaN</td>\n",
       "      <td>12.25.35.1333</td>\n",
       "      <td>NaN</td>\n",
       "      <td>1.0</td>\n",
       "      <td>1</td>\n",
       "      <td>NaN</td>\n",
       "      <td>NaN</td>\n",
       "      <td>NaN</td>\n",
       "      <td>NaN</td>\n",
       "      <td>NaN</td>\n",
       "    </tr>\n",
       "  </tbody>\n",
       "</table>\n",
       "</div>"
      ],
      "text/plain": [
       "     sSerialNumber                     sContact   sTag sRANumber  \\\n",
       "46       00-6-3949        TIM OR ELIZABETH ARGO  207E5       NaN   \n",
       "1648    17-9-06604  BERRENDO WATER USERS ASSOC.    NaN       NaN   \n",
       "1748    19-4-00254                  BILL HORNER    NaN       NaN   \n",
       "1749    19-4-00255           CHISUM TRAIL DAIRY    NaN       NaN   \n",
       "\n",
       "              sTRSS  owner_id  meter_type_id  meter_status_id   latitude  \\\n",
       "46      9.24.14.431       NaN            2.0                1  33.529278   \n",
       "1648    11.23.4.122       NaN           14.0                1  33.393306   \n",
       "1748      WAREHOUSE      16.0            1.0                1  32.864750   \n",
       "1749  12.25.35.1333       NaN            1.0                1        NaN   \n",
       "\n",
       "       longitude name  well_id  location_id  \n",
       "46    104.478167  NaN      NaN          NaN  \n",
       "1648  104.623806  NaN      NaN          NaN  \n",
       "1748  104.362583  NaN      NaN          NaN  \n",
       "1749         NaN  NaN      NaN          NaN  "
      ]
     },
     "execution_count": 9,
     "metadata": {},
     "output_type": "execute_result"
    }
   ],
   "source": [
    "# Assess installed meters without well_id\n",
    "meters_locations[meters_locations['meter_status_id'] == 1 & meters_locations['well_id'].isna()]"
   ]
  },
  {
   "attachments": {},
   "cell_type": "markdown",
   "metadata": {},
   "source": [
    "Six installed meters don't have matching wells/locations. Before adding any as new wells, I need to check if the sTRSS is in the locations table."
   ]
  },
  {
   "cell_type": "code",
   "execution_count": 7,
   "metadata": {},
   "outputs": [
    {
     "data": {
      "text/html": [
       "<div>\n",
       "<style scoped>\n",
       "    .dataframe tbody tr th:only-of-type {\n",
       "        vertical-align: middle;\n",
       "    }\n",
       "\n",
       "    .dataframe tbody tr th {\n",
       "        vertical-align: top;\n",
       "    }\n",
       "\n",
       "    .dataframe thead th {\n",
       "        text-align: right;\n",
       "    }\n",
       "</style>\n",
       "<table border=\"1\" class=\"dataframe\">\n",
       "  <thead>\n",
       "    <tr style=\"text-align: right;\">\n",
       "      <th></th>\n",
       "      <th>sSerialNumber</th>\n",
       "      <th>sTRSS</th>\n",
       "      <th>location_id</th>\n",
       "    </tr>\n",
       "  </thead>\n",
       "  <tbody>\n",
       "    <tr>\n",
       "      <th>0</th>\n",
       "      <td>00-6-3949</td>\n",
       "      <td>9.24.14.431</td>\n",
       "      <td>NaN</td>\n",
       "    </tr>\n",
       "    <tr>\n",
       "      <th>1</th>\n",
       "      <td>17-9-06604</td>\n",
       "      <td>11.23.4.122</td>\n",
       "      <td>NaN</td>\n",
       "    </tr>\n",
       "    <tr>\n",
       "      <th>2</th>\n",
       "      <td>19-4-00254</td>\n",
       "      <td>WAREHOUSE</td>\n",
       "      <td>630.0</td>\n",
       "    </tr>\n",
       "    <tr>\n",
       "      <th>3</th>\n",
       "      <td>19-4-00255</td>\n",
       "      <td>12.25.35.1333</td>\n",
       "      <td>NaN</td>\n",
       "    </tr>\n",
       "    <tr>\n",
       "      <th>4</th>\n",
       "      <td>33176703</td>\n",
       "      <td>5206 W. 2ND ST.</td>\n",
       "      <td>634.0</td>\n",
       "    </tr>\n",
       "    <tr>\n",
       "      <th>5</th>\n",
       "      <td>853121</td>\n",
       "      <td>0</td>\n",
       "      <td>686.0</td>\n",
       "    </tr>\n",
       "  </tbody>\n",
       "</table>\n",
       "</div>"
      ],
      "text/plain": [
       "  sSerialNumber            sTRSS  location_id\n",
       "0     00-6-3949      9.24.14.431          NaN\n",
       "1    17-9-06604      11.23.4.122          NaN\n",
       "2    19-4-00254        WAREHOUSE        630.0\n",
       "3    19-4-00255    12.25.35.1333          NaN\n",
       "4      33176703  5206 W. 2ND ST.        634.0\n",
       "5        853121                0        686.0"
      ]
     },
     "execution_count": 7,
     "metadata": {},
     "output_type": "execute_result"
    }
   ],
   "source": [
    "missing_wells = meters_locations[meters_locations['meter_status_id'] == 1 & meters_locations['well_id'].isna()].loc[:,['sSerialNumber','sTRSS']]\n",
    "\n",
    "#Merge missing_wells with locations based on TRSS\n",
    "pd.merge(missing_wells, locations[['sTRSS','location_id']], how='left', left_on='sTRSS', right_on='sTRSS')\n"
   ]
  },
  {
   "attachments": {},
   "cell_type": "markdown",
   "metadata": {},
   "source": [
    "The serial numbers with sTRSS appear to be new locations, but given it is only three wells/locations, I think it will be easier for PVACD to work this out and will leave them without locations.\n",
    "\n",
    "I suspect the last two rows are actually uninstalled or sold meters, so I will simply change their status to 'unknown'."
   ]
  },
  {
   "cell_type": "code",
   "execution_count": 8,
   "metadata": {},
   "outputs": [],
   "source": [
    "meters_locations.loc[2076,'meter_status_id'] = 6\n",
    "meters_locations.loc[2939,'meter_status_id'] = 6"
   ]
  },
  {
   "attachments": {},
   "cell_type": "markdown",
   "metadata": {},
   "source": [
    "Meters are finally ready for saving to CSV!"
   ]
  },
  {
   "cell_type": "code",
   "execution_count": 10,
   "metadata": {},
   "outputs": [],
   "source": [
    "meters_table = meters_locations.loc[:,['sSerialNumber','sContact','sTag','meter_type_id','meter_status_id','well_id','location_id']].sort_values(by=['sSerialNumber'])\n",
    "\n",
    "# Add on meter_id\n",
    "meters_table['meter_id'] = np.arange(1, len(meters_table)+1)\n"
   ]
  },
  {
   "cell_type": "code",
   "execution_count": 11,
   "metadata": {},
   "outputs": [],
   "source": [
    "# Rename sSerialNumber to serial_number\n",
    "meters_table.rename(columns={'sSerialNumber':'serial_number'}, inplace=True)\n",
    "\n",
    "# Rename sContact to old_contact_name\n",
    "meters_table.rename(columns={'sContact':'old_contact_name'}, inplace=True)\n",
    "\n",
    "# Rename sTag to tag\n",
    "meters_table.rename(columns={'sTag':'tag'}, inplace=True)"
   ]
  },
  {
   "cell_type": "code",
   "execution_count": 12,
   "metadata": {},
   "outputs": [],
   "source": [
    "# Reorder columns to 'meter_id','serial_number','old_contact_name','tag','meter_type_id','meter_status_id','location_id','well_id'\n",
    "meters_table = meters_table.loc[:,['meter_id','serial_number','old_contact_name','tag','meter_type_id','meter_status_id','location_id','well_id']]"
   ]
  },
  {
   "cell_type": "code",
   "execution_count": 13,
   "metadata": {},
   "outputs": [],
   "source": [
    "# Save meters_table to csv\n",
    "meters_table.to_csv('./api/data/meters.csv', index=False)"
   ]
  }
 ],
 "metadata": {
  "kernelspec": {
   "display_name": ".env310",
   "language": "python",
   "name": "python3"
  },
  "language_info": {
   "codemirror_mode": {
    "name": "ipython",
    "version": 3
   },
   "file_extension": ".py",
   "mimetype": "text/x-python",
   "name": "python",
   "nbconvert_exporter": "python",
   "pygments_lexer": "ipython3",
   "version": "3.10.7"
  },
  "orig_nbformat": 4
 },
 "nbformat": 4,
 "nbformat_minor": 2
}
