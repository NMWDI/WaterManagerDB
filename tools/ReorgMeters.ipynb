{
 "cells": [
  {
   "attachments": {},
   "cell_type": "markdown",
   "metadata": {},
   "source": [
    "# Meter DB Organization\n",
    "Re-organize extracted meter data for target database tables\n",
    "\n",
    "* Note: This imports extracted_meters.csv. I manually changed some rows in this csv on 7/11, if the csv is regenerated, those changes will be lost and may need to be re-done."
   ]
  },
  {
   "cell_type": "code",
   "execution_count": 1,
   "metadata": {},
   "outputs": [],
   "source": [
    "import pyodbc\n",
    "import pandas as pd\n",
    "import numpy as np"
   ]
  },
  {
   "cell_type": "code",
   "execution_count": 2,
   "metadata": {},
   "outputs": [
    {
     "data": {
      "text/html": [
       "<div>\n",
       "<style scoped>\n",
       "    .dataframe tbody tr th:only-of-type {\n",
       "        vertical-align: middle;\n",
       "    }\n",
       "\n",
       "    .dataframe tbody tr th {\n",
       "        vertical-align: top;\n",
       "    }\n",
       "\n",
       "    .dataframe thead th {\n",
       "        text-align: right;\n",
       "    }\n",
       "</style>\n",
       "<table border=\"1\" class=\"dataframe\">\n",
       "  <thead>\n",
       "    <tr style=\"text-align: right;\">\n",
       "      <th></th>\n",
       "      <th>sSerialNumber</th>\n",
       "      <th>sContact</th>\n",
       "      <th>sTag</th>\n",
       "      <th>sRANumber</th>\n",
       "      <th>sTRSS</th>\n",
       "      <th>owner_id</th>\n",
       "      <th>meter_type_id</th>\n",
       "      <th>meter_status_id</th>\n",
       "      <th>latitude</th>\n",
       "      <th>longitude</th>\n",
       "    </tr>\n",
       "  </thead>\n",
       "  <tbody>\n",
       "    <tr>\n",
       "      <th>0</th>\n",
       "      <td>88-8-817</td>\n",
       "      <td>HALDEMAN W.T. ESTATE</td>\n",
       "      <td>NaN</td>\n",
       "      <td>763;1180-S</td>\n",
       "      <td>17.26.14.133</td>\n",
       "      <td>NaN</td>\n",
       "      <td>3.0</td>\n",
       "      <td>5</td>\n",
       "      <td>32.835806</td>\n",
       "      <td>104.360556</td>\n",
       "    </tr>\n",
       "    <tr>\n",
       "      <th>1</th>\n",
       "      <td>94-8-2251</td>\n",
       "      <td>DAVID AND TRACEY CORN</td>\n",
       "      <td>221C4</td>\n",
       "      <td>2417 POD 2</td>\n",
       "      <td>8.24.28.413</td>\n",
       "      <td>53.0</td>\n",
       "      <td>3.0</td>\n",
       "      <td>1</td>\n",
       "      <td>NaN</td>\n",
       "      <td>NaN</td>\n",
       "    </tr>\n",
       "    <tr>\n",
       "      <th>2</th>\n",
       "      <td>00-10-6922</td>\n",
       "      <td>AG SERVICES</td>\n",
       "      <td>NaN</td>\n",
       "      <td>NaN</td>\n",
       "      <td>ROSWELL, NM</td>\n",
       "      <td>1.0</td>\n",
       "      <td>4.0</td>\n",
       "      <td>5</td>\n",
       "      <td>NaN</td>\n",
       "      <td>NaN</td>\n",
       "    </tr>\n",
       "    <tr>\n",
       "      <th>3</th>\n",
       "      <td>00-10-6923</td>\n",
       "      <td>N.M.S.U. EXPER STAT.</td>\n",
       "      <td>20138</td>\n",
       "      <td>827</td>\n",
       "      <td>18.26.16.211</td>\n",
       "      <td>NaN</td>\n",
       "      <td>4.0</td>\n",
       "      <td>1</td>\n",
       "      <td>32.754556</td>\n",
       "      <td>104.386417</td>\n",
       "    </tr>\n",
       "    <tr>\n",
       "      <th>4</th>\n",
       "      <td>00-10-6924</td>\n",
       "      <td>WAIDE FARMS</td>\n",
       "      <td>NaN</td>\n",
       "      <td>NaN</td>\n",
       "      <td>NaN</td>\n",
       "      <td>NaN</td>\n",
       "      <td>4.0</td>\n",
       "      <td>5</td>\n",
       "      <td>NaN</td>\n",
       "      <td>NaN</td>\n",
       "    </tr>\n",
       "  </tbody>\n",
       "</table>\n",
       "</div>"
      ],
      "text/plain": [
       "  sSerialNumber               sContact   sTag   sRANumber         sTRSS  \\\n",
       "0      88-8-817   HALDEMAN W.T. ESTATE    NaN  763;1180-S  17.26.14.133   \n",
       "1     94-8-2251  DAVID AND TRACEY CORN  221C4  2417 POD 2   8.24.28.413   \n",
       "2    00-10-6922            AG SERVICES    NaN         NaN   ROSWELL, NM   \n",
       "3    00-10-6923   N.M.S.U. EXPER STAT.  20138         827  18.26.16.211   \n",
       "4    00-10-6924            WAIDE FARMS    NaN         NaN           NaN   \n",
       "\n",
       "   owner_id  meter_type_id  meter_status_id   latitude   longitude  \n",
       "0       NaN            3.0                5  32.835806  104.360556  \n",
       "1      53.0            3.0                1        NaN         NaN  \n",
       "2       1.0            4.0                5        NaN         NaN  \n",
       "3       NaN            4.0                1  32.754556  104.386417  \n",
       "4       NaN            4.0                5        NaN         NaN  "
      ]
     },
     "execution_count": 2,
     "metadata": {},
     "output_type": "execute_result"
    }
   ],
   "source": [
    "# Load extracted_meters\n",
    "meters = pd.read_csv('./api/data/extracted_meters.csv')\n",
    "meters.head()"
   ]
  },
  {
   "cell_type": "code",
   "execution_count": 3,
   "metadata": {},
   "outputs": [],
   "source": [
    "# Add on a meter id\n",
    "meters['meter_id'] = meters.index + 1"
   ]
  },
  {
   "cell_type": "code",
   "execution_count": 4,
   "metadata": {},
   "outputs": [
    {
     "data": {
      "text/plain": [
       "4498"
      ]
     },
     "execution_count": 4,
     "metadata": {},
     "output_type": "execute_result"
    }
   ],
   "source": [
    "len(meters)"
   ]
  },
  {
   "attachments": {},
   "cell_type": "markdown",
   "metadata": {},
   "source": [
    "The database will have a locations table and the meters table will reference a particular location id. It isn't yet clear exactly how to define a location since Lat/Long is too precise. TRSS may better describe a location since it has a lower resolution. It isn't clear if the existing TRSS match the lat/longs. For now I will define locations by TRSS and use that to assign location IDs to the meters."
   ]
  },
  {
   "cell_type": "code",
   "execution_count": null,
   "metadata": {},
   "outputs": [],
   "source": [
    "# Create locations table\n",
    "locations_table = meters[['meter_id','sTRSS']]"
   ]
  },
  {
   "cell_type": "code",
   "execution_count": null,
   "metadata": {},
   "outputs": [],
   "source": [
    "# Drop locations where sTRSS is null\n",
    "locations_table.dropna(inplace=True)\n",
    "locations_table.head()"
   ]
  },
  {
   "cell_type": "code",
   "execution_count": null,
   "metadata": {},
   "outputs": [],
   "source": []
  }
 ],
 "metadata": {
  "kernelspec": {
   "display_name": ".env310",
   "language": "python",
   "name": "python3"
  },
  "language_info": {
   "codemirror_mode": {
    "name": "ipython",
    "version": 3
   },
   "file_extension": ".py",
   "mimetype": "text/x-python",
   "name": "python",
   "nbconvert_exporter": "python",
   "pygments_lexer": "ipython3",
   "version": "3.10.7"
  },
  "orig_nbformat": 4
 },
 "nbformat": 4,
 "nbformat_minor": 2
}
